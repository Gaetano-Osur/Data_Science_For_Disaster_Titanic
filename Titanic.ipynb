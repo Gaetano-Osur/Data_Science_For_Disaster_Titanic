{
 "cells": [
  {
   "cell_type": "markdown",
   "id": "alleged-destination",
   "metadata": {},
   "source": [
    "# Titanic- machine Learning from Disaster\n",
    "\n",
    "Using machine learning to create a model that predicts which passengers survived the Titanic wreck\n"
   ]
  },
  {
   "cell_type": "code",
   "execution_count": 1,
   "id": "finished-stadium",
   "metadata": {},
   "outputs": [],
   "source": [
    "#Library imports\n",
    "import pandas as pd\n",
    "import numpy as np\n",
    "import seaborn as sns\n",
    "import matplotlib.pyplot as plt"
   ]
  },
  {
   "cell_type": "markdown",
   "id": "joined-roots",
   "metadata": {},
   "source": [
    "#### Loading the data sets"
   ]
  },
  {
   "cell_type": "code",
   "execution_count": 2,
   "id": "obvious-relationship",
   "metadata": {},
   "outputs": [],
   "source": [
    "train = pd.read_csv('Data/train.csv')\n",
    "test = pd.read_csv('Data/test.csv')"
   ]
  },
  {
   "cell_type": "code",
   "execution_count": null,
   "id": "ongoing-variety",
   "metadata": {},
   "outputs": [],
   "source": []
  }
 ],
 "metadata": {
  "kernelspec": {
   "display_name": "Python 3",
   "language": "python",
   "name": "python3"
  },
  "language_info": {
   "codemirror_mode": {
    "name": "ipython",
    "version": 3
   },
   "file_extension": ".py",
   "mimetype": "text/x-python",
   "name": "python",
   "nbconvert_exporter": "python",
   "pygments_lexer": "ipython3",
   "version": "3.8.8"
  }
 },
 "nbformat": 4,
 "nbformat_minor": 5
}
